{
 "cells": [
  {
   "cell_type": "markdown",
   "id": "cc862685-d101-4c37-a27d-85372598e5e8",
   "metadata": {},
   "source": [
    "# Data Science Tools and Ecosystem "
   ]
  },
  {
   "cell_type": "markdown",
   "id": "b8eebcb1-4153-44a0-8b89-39450109dabd",
   "metadata": {},
   "source": [
    "In this notebook, Data Science Tools and Ecosystem are summarized."
   ]
  },
  {
   "cell_type": "markdown",
   "id": "8f11b839-8bfa-4659-a25d-1bf311e012af",
   "metadata": {},
   "source": [
    "***Objectives***\n",
    "- List popular languages for Data Science\n",
    "- Commonly used libraries used by Data Scientists\n",
    "- Data science tools\n",
    "- arithmetic expressions in python"
   ]
  },
  {
   "cell_type": "markdown",
   "id": "b65eff7e-226e-4a67-acf3-608286420366",
   "metadata": {},
   "source": [
    "Some of the popular languages that Data Scientists use are:\n",
    "1. Python\n",
    "2. R\n",
    "3. Julia\n",
    "4. SQL\n",
    "5. Java\n",
    "6. Scala\n",
    "7. MATLAB\n"
   ]
  },
  {
   "cell_type": "markdown",
   "id": "b7dcb7e3-6b02-45cd-9897-0a3eacb5fe3c",
   "metadata": {},
   "source": [
    "Some of the commonly used libraries used by Data Scientists include:\n",
    "1. Pandas\n",
    "2. Numpy\n",
    "3. SciPy\n",
    "4. Matplotlib\n",
    "5. Scikit-learn"
   ]
  },
  {
   "cell_type": "markdown",
   "id": "9931e644-45c6-40cb-867f-69c662fbd9f1",
   "metadata": {},
   "source": [
    "|Data Science Tools|\n",
    "|------------------|\n",
    "|Jupyter notebook|\n",
    "|Rstudio|\n",
    "|spyder|"
   ]
  },
  {
   "cell_type": "markdown",
   "id": "a03c8c4c-69e3-4a42-982d-8245a04ee400",
   "metadata": {},
   "source": [
    "### Below are a few examples of evaluating arithmetic expressions in Python"
   ]
  },
  {
   "cell_type": "code",
   "execution_count": 13,
   "id": "f91cf916-43fa-479c-8dfe-dfabf272ec1c",
   "metadata": {},
   "outputs": [
    {
     "data": {
      "text/plain": [
       "17"
      ]
     },
     "execution_count": 13,
     "metadata": {},
     "output_type": "execute_result"
    }
   ],
   "source": [
    "#This a simple arithmetic expression to mutiply then add integers\n",
    "(3*4)+5"
   ]
  },
  {
   "cell_type": "code",
   "execution_count": 17,
   "id": "471b4c52-ea5c-47ba-9038-bee0d4c9a3bb",
   "metadata": {},
   "outputs": [
    {
     "name": "stdout",
     "output_type": "stream",
     "text": [
      "3.3333333333333335 hours\n"
     ]
    }
   ],
   "source": [
    "#This will convert 200 minutes to hours by diving by 60\n",
    "t_m=200\n",
    "t_h=t_m/60\n",
    "print(t_h , \"hours\")"
   ]
  },
  {
   "cell_type": "markdown",
   "id": "acd10c29-318a-4f3d-92b1-8c4ce3547b02",
   "metadata": {},
   "source": [
    "## Author\n",
    "Ibrahim Mamudu"
   ]
  },
  {
   "cell_type": "code",
   "execution_count": null,
   "id": "f5b5e89a-2d10-4f10-9feb-d04df0be20ef",
   "metadata": {},
   "outputs": [],
   "source": []
  }
 ],
 "metadata": {
  "kernelspec": {
   "display_name": "Python [conda env:base] *",
   "language": "python",
   "name": "conda-base-py"
  },
  "language_info": {
   "codemirror_mode": {
    "name": "ipython",
    "version": 3
   },
   "file_extension": ".py",
   "mimetype": "text/x-python",
   "name": "python",
   "nbconvert_exporter": "python",
   "pygments_lexer": "ipython3",
   "version": "3.12.7"
  }
 },
 "nbformat": 4,
 "nbformat_minor": 5
}
